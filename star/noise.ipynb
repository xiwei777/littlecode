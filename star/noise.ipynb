{
 "cells": [
  {
   "cell_type": "code",
   "execution_count": 1,
   "metadata": {},
   "outputs": [],
   "source": [
    "import numpy as np\n",
    "from PIL import Image\n",
    "from PIL import ImageChops\n",
    "import os\n",
    "import tifffile as tiff\n",
    "from tqdm import tqdm\n",
    "import cv2"
   ]
  },
  {
   "cell_type": "code",
   "execution_count": 128,
   "metadata": {},
   "outputs": [],
   "source": [
    "#生成带alpha通道的背景\n",
    "def gen_starry(star_num=100):\n",
    "    img = np.random.randint(0,64,[1,1080,1920,3])\n",
    "    img.mean(0)\n",
    "    img = img.mean(0).astype('uint8')\n",
    "    img_alpha = np.ones([1080,1920,1])*255\n",
    "    img_alpha = img_alpha.astype('uint8')\n",
    "    img = np.concatenate((img,img_alpha),2)\n",
    "    img = Image.fromarray(img)\n",
    "    img_circle = img\n",
    "\n",
    "    #添加star\n",
    "    star = Image.open('star.png')\n",
    "    for i in range(star_num):\n",
    "        width,height = img_circle.size\n",
    "        star = Image.open('star.png')\n",
    "        star_size = np.random.randint(3,13)\n",
    "        star = star.resize((star_size,star_size))\n",
    "        loc_x = np.random.randint(0 + star_size,width - star_size*2)\n",
    "        loc_y = np.random.randint(0 + star_size,height - star_size*2)    \n",
    "        img_circle.paste(star,(loc_x,loc_y),mask=star.split()[3])\n",
    "\n",
    "    return img_circle"
   ]
  },
  {
   "cell_type": "code",
   "execution_count": 50,
   "metadata": {},
   "outputs": [],
   "source": [
    "one_star = np.ones([1024,1024,4])*255\n",
    "# one_star[:,:,:1] = 0"
   ]
  },
  {
   "cell_type": "code",
   "execution_count": 51,
   "metadata": {},
   "outputs": [],
   "source": [
    "for i in range(1024):\n",
    "    for j in range(1024):\n",
    "        distance = ((i-511)**2+(j-511)**2)/511**2\n",
    "        if distance > 1:\n",
    "            value = 0\n",
    "        else:\n",
    "            value = (-1*distance**2+1)*250\n",
    "        one_star[i,j,3] = value "
   ]
  },
  {
   "cell_type": "code",
   "execution_count": 52,
   "metadata": {},
   "outputs": [],
   "source": [
    "star_RGBA = Image.fromarray(one_star.astype(np.uint8))"
   ]
  },
  {
   "cell_type": "code",
   "execution_count": 53,
   "metadata": {},
   "outputs": [],
   "source": [
    "star_RGBA.save('star_gen.PNG')"
   ]
  },
  {
   "cell_type": "code",
   "execution_count": null,
   "metadata": {},
   "outputs": [],
   "source": []
  }
 ],
 "metadata": {
  "kernelspec": {
   "display_name": "pytorch",
   "language": "python",
   "name": "pytorch"
  },
  "language_info": {
   "codemirror_mode": {
    "name": "ipython",
    "version": 3
   },
   "file_extension": ".py",
   "mimetype": "text/x-python",
   "name": "python",
   "nbconvert_exporter": "python",
   "pygments_lexer": "ipython3",
   "version": "3.7.7"
  }
 },
 "nbformat": 4,
 "nbformat_minor": 2
}

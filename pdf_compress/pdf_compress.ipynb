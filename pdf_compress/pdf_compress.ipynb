{
 "cells": [
  {
   "cell_type": "code",
   "execution_count": 7,
   "metadata": {},
   "outputs": [],
   "source": [
    "import fitz\n",
    "import re\n",
    "import os\n",
    "from PIL import Image\n",
    "from tkinter import filedialog\n",
    "import os\n",
    "from glob import glob\n",
    "from tqdm import tqdm\n",
    "\n",
    "def pdf2pic(path, pic_path):\n",
    "    checkXO = r\"/Type(?= */XObject)\"  # 使用正则表达式来查找图片\n",
    "    checkIM = r\"/Subtype(?= */Image)\"\n",
    "    doc = fitz.open(path)  # 打开pdf文件\n",
    "    imgcount = 0  # 图片计数\n",
    "    lenXREF = doc.xref_length()    # 获取对象数量长度\n",
    "    pic_path_d_list = []\n",
    "\n",
    "    # 打印PDF的信息\n",
    "    print(\"文件名:{}, 页数: {}, 对象: {}\".format(path, len(doc), lenXREF - 1))\n",
    "\n",
    "    # 遍历每一个对象\n",
    "    for i in range(1, lenXREF):\n",
    "        text = doc.xref_object(i)  # 定义对象字符串\n",
    "        isXObject = re.search(checkXO, text)  # 使用正则表达式查看是否是对象\n",
    "        isImage = re.search(checkIM, text)  # 使用正则表达式查看是否是图片\n",
    "        if not isXObject or not isImage:  # 如果不是对象也不是图片，则continue\n",
    "            continue\n",
    "        imgcount += 1\n",
    "        pix = fitz.Pixmap(doc, i)  # 生成图像对象\n",
    "        \n",
    "        new_name =path.split('/')[-1]  + \"_{}.jpg\".format(imgcount)  # 生成图片的名称\n",
    "        print(new_name)\n",
    "        if pix.n < 5:  # 如果pix.n<5,可以直接存为PNG\n",
    "            pic_path_d = os.path.join(pic_path, 'pic',new_name)\n",
    "            pix.writeImage(pic_path_d)\n",
    "            im = Image.open(pic_path_d)\n",
    "            x, y = im.size\n",
    "            if x > 1376:\n",
    "                y_s = int(y * 1376 / x)\n",
    "                im = im.resize((1376, y_s), Image.ANTIALIAS)\n",
    "            im.save(pic_path_d)\n",
    "            pic_path_d_list.append(pic_path_d)\n",
    "\n",
    "        else:  # 否则先转换CMYK\n",
    "            pix0 = fitz.Pixmap(fitz.csRGB, pix)\n",
    "            pix0.writeImage(pic_path_d)\n",
    "            pix0 = None\n",
    "\n",
    "        pix = None  # 释放资源\n",
    "#     print(\"提取了{}张图片\".format(imgcount))\n",
    "    \n",
    "    doc = fitz.open()\n",
    "    # 循环path中的文件，可import os 然后用 for img in os.listdir(img_path)实现\n",
    "    # 这里为了让文件以1，2，3的形式进行拼接，就偷懒循环文件名中的数字。\n",
    "    for img_file in pic_path_d_list:\n",
    "        imgdoc = fitz.open(img_file)\n",
    "        pdfbytes = imgdoc.convertToPDF()\n",
    "#         pdf_name = str(i) + '.pdf'\n",
    "        pdf_name = os.path.join(pic_path, path.split('/')[-1])\n",
    "        imgpdf = fitz.open(pdf_name, pdfbytes)\n",
    "        doc.insertPDF(imgpdf)\n",
    "    print(pdf_name)\n",
    "    doc.save(pdf_name)\n",
    "    doc.close()    \n",
    "        \n",
    "def find_pdf(path=\".\"):\n",
    "    pdf_list = []\n",
    "    for root, dirs, files in os.walk(path, topdown=False):\n",
    "        for name in files:\n",
    "            pdf_list.append(os.path.join(root, name))\n",
    "    #     for name in dirs:\n",
    "    #         pdf_list.append(os.path.join(root, name))\n",
    "    return list(filter(lambda x:x.endswith('pdf'),pdf_list))"
   ]
  },
  {
   "cell_type": "code",
   "execution_count": 8,
   "metadata": {},
   "outputs": [],
   "source": [
    "def find_pdf(path=\".\"):\n",
    "    pdf_list = []\n",
    "    for root, dirs, files in os.walk(path, topdown=False):\n",
    "        for name in files:\n",
    "            pdf_list.append(os.path.join(root, name))\n",
    "    #     for name in dirs:\n",
    "    #         pdf_list.append(os.path.join(root, name))\n",
    "    return list(filter(lambda x:x.endswith('pdf'),pdf_list))"
   ]
  },
  {
   "cell_type": "code",
   "execution_count": 10,
   "metadata": {},
   "outputs": [
    {
     "name": "stderr",
     "output_type": "stream",
     "text": [
      "  0%|          | 0/14 [00:00<?, ?it/s]"
     ]
    },
    {
     "name": "stdout",
     "output_type": "stream",
     "text": [
      "1\n"
     ]
    },
    {
     "name": "stderr",
     "output_type": "stream",
     "text": [
      "\n"
     ]
    }
   ],
   "source": [
    "save_dir = './compress'\n",
    "pdf_dir = './剧本'\n",
    "if not os.path.exists(save_dir):\n",
    "    os.mkdir(save_dir)\n",
    "if not os.path.exists(pdf_dir):\n",
    "    os.mkdir(pdf_dir)\n",
    "for i in tqdm(find_pdf('./剧本')):\n",
    "    print(1)\n",
    "    break\n",
    "    pdf2pic(i,'./compress')"
   ]
  }
 ],
 "metadata": {
  "kernelspec": {
   "display_name": "Python 3",
   "language": "python",
   "name": "python3"
  },
  "language_info": {
   "codemirror_mode": {
    "name": "ipython",
    "version": 3
   },
   "file_extension": ".py",
   "mimetype": "text/x-python",
   "name": "python",
   "nbconvert_exporter": "python",
   "pygments_lexer": "ipython3",
   "version": "3.6.5"
  }
 },
 "nbformat": 4,
 "nbformat_minor": 4
}
